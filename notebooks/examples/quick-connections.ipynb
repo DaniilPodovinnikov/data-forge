{
 "cells": [
  {
   "cell_type": "markdown",
   "metadata": {},
   "source": [
    "# Data Forge Connections\n",
    "\n",
    "Ready-to-run connection code for all stack services.\n",
    "\n",
    "Run Environment Setup first, then any service cell you need."
   ]
  },
  {
   "cell_type": "markdown",
   "metadata": {},
   "source": [
    "## ⚙️ Environment Setup\n",
    "\n",
    "Loads connection URLs and credentials from Docker environment.\n",
    "\n",
    "🛑 Run this cell first before any service connections."
   ]
  },
  {
   "cell_type": "code",
   "execution_count": 1,
   "metadata": {
    "execution": {
     "iopub.execute_input": "2025-09-05T09:33:42.604546Z",
     "iopub.status.busy": "2025-09-05T09:33:42.604212Z",
     "iopub.status.idle": "2025-09-05T09:33:42.609231Z",
     "shell.execute_reply": "2025-09-05T09:33:42.608777Z",
     "shell.execute_reply.started": "2025-09-05T09:33:42.604532Z"
    },
    "tags": []
   },
   "outputs": [
    {
     "name": "stdout",
     "output_type": "stream",
     "text": [
      "Environment configured\n"
     ]
    }
   ],
   "source": [
    "import os\n",
    "\n",
    "# Database connections\n",
    "POSTGRES_URL = f\"postgresql://{os.getenv('POSTGRES_USER', 'admin')}:{os.getenv('POSTGRES_PASSWORD', 'admin')}@postgres:5432/{os.getenv('POSTGRES_DB', 'metastore')}\"\n",
    "CLICKHOUSE_URL = f\"clickhouse://{os.getenv('CLICKHOUSE_USER', 'admin')}:{os.getenv('CLICKHOUSE_PASSWORD', 'admin')}@clickhouse:8123/{os.getenv('CLICKHOUSE_DB', 'analytics')}\"\n",
    "\n",
    "# Object storage\n",
    "MINIO_ENDPOINT = \"http://minio:9000\"\n",
    "MINIO_ACCESS_KEY = os.getenv('MINIO_ROOT_USER', 'minio')\n",
    "MINIO_SECRET_KEY = os.getenv('MINIO_ROOT_PASSWORD', 'minio123')\n",
    "\n",
    "# Streaming\n",
    "KAFKA_SERVERS = os.getenv('KAFKA_BOOTSTRAP_SERVERS', 'kafka:9092')\n",
    "SCHEMA_REGISTRY_URL = os.getenv('SCHEMA_REGISTRY_URL', 'http://schema-registry:8081')\n",
    "\n",
    "# Services\n",
    "TRINO_URL = \"http://trino:8080\"\n",
    "SPARK_MASTER = os.getenv('SPARK_MASTER_URL', 'spark://spark-master:7077')\n",
    "\n",
    "print(\"Environment configured\")"
   ]
  },
  {
   "cell_type": "markdown",
   "metadata": {},
   "source": [
    "## 🧩 Spark\n",
    "\n",
    "Distributed processing engine for batch and stream workloads."
   ]
  },
  {
   "cell_type": "code",
   "execution_count": 2,
   "metadata": {
    "execution": {
     "iopub.execute_input": "2025-09-05T09:33:44.780870Z",
     "iopub.status.busy": "2025-09-05T09:33:44.780626Z",
     "iopub.status.idle": "2025-09-05T09:33:53.112408Z",
     "shell.execute_reply": "2025-09-05T09:33:53.111912Z",
     "shell.execute_reply.started": "2025-09-05T09:33:44.780858Z"
    },
    "tags": []
   },
   "outputs": [
    {
     "name": "stdout",
     "output_type": "stream",
     "text": [
      "Connecting to Spark: spark://spark-master:7077\n",
      "Spark ready: 3.5.0\n",
      "+-------+---+\n",
      "|   name|age|\n",
      "+-------+---+\n",
      "|  Alice| 25|\n",
      "|    Bob| 30|\n",
      "|Charlie| 35|\n",
      "+-------+---+\n",
      "\n",
      "Spark session active\n"
     ]
    }
   ],
   "source": [
    "from pyspark.sql import SparkSession\n",
    "\n",
    "print(f\"Connecting to Spark: {SPARK_MASTER}\")\n",
    "\n",
    "spark = SparkSession.builder \\\n",
    "    .appName(\"DataForge\") \\\n",
    "    .master(SPARK_MASTER) \\\n",
    "    .config(\"spark.executor.memory\", \"512m\") \\\n",
    "    .config(\"spark.driver.memory\", \"512m\") \\\n",
    "    .config(\"spark.executor.cores\", \"1\") \\\n",
    "    .config(\"spark.cores.max\", \"2\") \\\n",
    "    .getOrCreate()\n",
    "\n",
    "print(f\"Spark ready: {spark.version}\")\n",
    "\n",
    "# Test query\n",
    "test_data = [(\"Alice\", 25), (\"Bob\", 30), (\"Charlie\", 35)]\n",
    "df = spark.createDataFrame(test_data, [\"name\", \"age\"])\n",
    "df.show()\n",
    "\n",
    "print(\"Spark session active\")"
   ]
  },
  {
   "cell_type": "markdown",
   "metadata": {},
   "source": [
    "## 🧩 PostgreSQL\n",
    "\n",
    "Primary OLTP database for source data."
   ]
  },
  {
   "cell_type": "code",
   "execution_count": 3,
   "metadata": {
    "execution": {
     "iopub.execute_input": "2025-09-05T09:34:01.889988Z",
     "iopub.status.busy": "2025-09-05T09:34:01.889211Z",
     "iopub.status.idle": "2025-09-05T09:34:02.100123Z",
     "shell.execute_reply": "2025-09-05T09:34:02.099701Z",
     "shell.execute_reply.started": "2025-09-05T09:34:01.889970Z"
    }
   },
   "outputs": [
    {
     "name": "stdout",
     "output_type": "stream",
     "text": [
      "PostgreSQL result:\n",
      "                               now\n",
      "0 2025-09-05 09:34:02.091861+00:00\n",
      "PostgreSQL ready\n"
     ]
    }
   ],
   "source": [
    "import pandas as pd\n",
    "from sqlalchemy import create_engine\n",
    "\n",
    "pg_engine = create_engine(POSTGRES_URL)\n",
    "df = pd.read_sql(\"SELECT current_timestamp as now\", pg_engine)\n",
    "print(\"PostgreSQL result:\")\n",
    "print(df)\n",
    "\n",
    "print(\"PostgreSQL ready\")"
   ]
  },
  {
   "cell_type": "markdown",
   "metadata": {},
   "source": [
    "## 🧩 ClickHouse\n",
    "\n",
    "Columnar analytics database for fast queries."
   ]
  },
  {
   "cell_type": "code",
   "execution_count": 4,
   "metadata": {
    "execution": {
     "iopub.execute_input": "2025-09-05T09:34:04.620517Z",
     "iopub.status.busy": "2025-09-05T09:34:04.620186Z",
     "iopub.status.idle": "2025-09-05T09:34:04.712040Z",
     "shell.execute_reply": "2025-09-05T09:34:04.711587Z",
     "shell.execute_reply.started": "2025-09-05T09:34:04.620502Z"
    }
   },
   "outputs": [
    {
     "name": "stdout",
     "output_type": "stream",
     "text": [
      "ClickHouse result:\n",
      "            message           timestamp\n",
      "0  Hello ClickHouse 2025-09-05 09:34:04\n",
      "ClickHouse ready\n"
     ]
    }
   ],
   "source": [
    "import clickhouse_connect\n",
    "\n",
    "ch_client = clickhouse_connect.get_client(\n",
    "    host='clickhouse',\n",
    "    port=8123,\n",
    "    username=os.getenv('CLICKHOUSE_USER', 'admin'),\n",
    "    password=os.getenv('CLICKHOUSE_PASSWORD', 'admin'),\n",
    "    database=os.getenv('CLICKHOUSE_DB', 'analytics')\n",
    ")\n",
    "\n",
    "result = ch_client.query(\"SELECT 'Hello ClickHouse' as message, now() as timestamp\")\n",
    "df_ch = pd.DataFrame(result.result_rows, columns=result.column_names)\n",
    "print(\"ClickHouse result:\")\n",
    "print(df_ch)\n",
    "\n",
    "print(\"ClickHouse ready\")"
   ]
  },
  {
   "cell_type": "markdown",
   "metadata": {},
   "source": [
    "## 🧩 MinIO\n",
    "\n",
    "S3-compatible object storage for data lakes."
   ]
  },
  {
   "cell_type": "code",
   "execution_count": 5,
   "metadata": {
    "execution": {
     "iopub.execute_input": "2025-09-05T09:34:07.492606Z",
     "iopub.status.busy": "2025-09-05T09:34:07.492186Z",
     "iopub.status.idle": "2025-09-05T09:34:07.759377Z",
     "shell.execute_reply": "2025-09-05T09:34:07.758932Z",
     "shell.execute_reply.started": "2025-09-05T09:34:07.492588Z"
    }
   },
   "outputs": [
    {
     "name": "stdout",
     "output_type": "stream",
     "text": [
      "Available buckets: ['test-bucket']\n",
      "MinIO ready\n"
     ]
    }
   ],
   "source": [
    "import boto3\n",
    "\n",
    "s3_client = boto3.client(\n",
    "    's3',\n",
    "    endpoint_url=MINIO_ENDPOINT,\n",
    "    aws_access_key_id=MINIO_ACCESS_KEY,\n",
    "    aws_secret_access_key=MINIO_SECRET_KEY\n",
    ")\n",
    "\n",
    "buckets = s3_client.list_buckets()\n",
    "print(f\"Available buckets: {[b['Name'] for b in buckets['Buckets']]}\")\n",
    "\n",
    "print(\"MinIO ready\")"
   ]
  },
  {
   "cell_type": "markdown",
   "metadata": {},
   "source": [
    "## 🧩 Trino\n",
    "\n",
    "Federated SQL query engine across data sources."
   ]
  },
  {
   "cell_type": "code",
   "execution_count": 6,
   "metadata": {
    "execution": {
     "iopub.execute_input": "2025-09-05T09:34:11.284123Z",
     "iopub.status.busy": "2025-09-05T09:34:11.283901Z",
     "iopub.status.idle": "2025-09-05T09:34:12.124321Z",
     "shell.execute_reply": "2025-09-05T09:34:12.123839Z",
     "shell.execute_reply.started": "2025-09-05T09:34:11.284111Z"
    }
   },
   "outputs": [
    {
     "name": "stdout",
     "output_type": "stream",
     "text": [
      "Available catalogs:\n",
      "      Catalog\n",
      "0  clickhouse\n",
      "1     iceberg\n",
      "2       kafka\n",
      "3    postgres\n",
      "4       redis\n",
      "5      system\n",
      "Trino ready\n"
     ]
    }
   ],
   "source": [
    "from trino.dbapi import connect as trino_connect\n",
    "\n",
    "trino_conn = trino_connect(\n",
    "    host='trino',\n",
    "    port=8080,\n",
    "    user='admin',\n",
    "    catalog='system',\n",
    "    schema='runtime'\n",
    ")\n",
    "\n",
    "def query_trino(sql):\n",
    "    cursor = trino_conn.cursor()\n",
    "    cursor.execute(sql)\n",
    "    columns = [desc[0] for desc in cursor.description]\n",
    "    data = cursor.fetchall()\n",
    "    return pd.DataFrame(data, columns=columns)\n",
    "\n",
    "catalogs_df = query_trino(\"SHOW CATALOGS\")\n",
    "print(\"Available catalogs:\")\n",
    "print(catalogs_df)\n",
    "\n",
    "print(\"Trino ready\")"
   ]
  },
  {
   "cell_type": "markdown",
   "metadata": {},
   "source": [
    "## 🧩 Redis\n",
    "\n",
    "In-memory cache and message broker."
   ]
  },
  {
   "cell_type": "code",
   "execution_count": 7,
   "metadata": {
    "execution": {
     "iopub.execute_input": "2025-09-05T09:34:18.049423Z",
     "iopub.status.busy": "2025-09-05T09:34:18.049141Z",
     "iopub.status.idle": "2025-09-05T09:34:18.143971Z",
     "shell.execute_reply": "2025-09-05T09:34:18.143603Z",
     "shell.execute_reply.started": "2025-09-05T09:34:18.049405Z"
    }
   },
   "outputs": [
    {
     "name": "stdout",
     "output_type": "stream",
     "text": [
      "Cached message: Data Forge connection test\n",
      "Redis ready\n"
     ]
    }
   ],
   "source": [
    "import redis\n",
    "\n",
    "r = redis.Redis(host='redis', port=6379, decode_responses=True)\n",
    "\n",
    "# Test cache\n",
    "r.set('test:notebook', 'Data Forge connection test')\n",
    "message = r.get('test:notebook')\n",
    "print(f\"Cached message: {message}\")\n",
    "\n",
    "def cache_dataframe(key, df, expire_seconds=3600):\n",
    "    json_data = df.to_json(orient='records')\n",
    "    r.setex(key, expire_seconds, json_data)\n",
    "    print(f\"DataFrame cached: {key}\")\n",
    "\n",
    "def get_cached_dataframe(key):\n",
    "    json_data = r.get(key)\n",
    "    if json_data:\n",
    "        return pd.read_json(json_data, orient='records')\n",
    "    return None\n",
    "\n",
    "print(\"Redis ready\")"
   ]
  },
  {
   "cell_type": "markdown",
   "metadata": {},
   "source": [
    "## 🧩 Kafka\n",
    "\n",
    "Event streaming platform for real-time data pipelines."
   ]
  },
  {
   "cell_type": "code",
   "execution_count": 8,
   "metadata": {
    "execution": {
     "iopub.execute_input": "2025-09-05T09:34:21.444045Z",
     "iopub.status.busy": "2025-09-05T09:34:21.443828Z",
     "iopub.status.idle": "2025-09-05T09:34:21.496303Z",
     "shell.execute_reply": "2025-09-05T09:34:21.495751Z",
     "shell.execute_reply.started": "2025-09-05T09:34:21.444032Z"
    }
   },
   "outputs": [
    {
     "name": "stdout",
     "output_type": "stream",
     "text": [
      "Kafka ready\n"
     ]
    }
   ],
   "source": [
    "from kafka import KafkaProducer, KafkaConsumer\n",
    "import json\n",
    "from datetime import datetime\n",
    "\n",
    "producer = KafkaProducer(\n",
    "    bootstrap_servers=[KAFKA_SERVERS],\n",
    "    value_serializer=lambda x: json.dumps(x).encode('utf-8')\n",
    ")\n",
    "\n",
    "def send_message(topic, message):\n",
    "    data = {\n",
    "        'timestamp': datetime.now().isoformat(),\n",
    "        'message': message\n",
    "    }\n",
    "    future = producer.send(topic, data)\n",
    "    record = future.get(timeout=10)\n",
    "    print(f\"Sent to {topic}: partition {record.partition}, offset {record.offset}\")\n",
    "    return record\n",
    "\n",
    "def create_consumer(topic, group_id='notebook-consumer'):\n",
    "    return KafkaConsumer(\n",
    "        topic,\n",
    "        bootstrap_servers=[KAFKA_SERVERS],\n",
    "        group_id=group_id,\n",
    "        value_deserializer=lambda m: json.loads(m.decode('utf-8')),\n",
    "        auto_offset_reset='latest'\n",
    "    )\n",
    "\n",
    "print(\"Kafka ready\")"
   ]
  },
  {
   "cell_type": "markdown",
   "metadata": {},
   "source": [
    "## 🚀 Status Check\n",
    "\n",
    "Verify all service connections are working."
   ]
  },
  {
   "cell_type": "code",
   "execution_count": 9,
   "metadata": {
    "execution": {
     "iopub.execute_input": "2025-09-05T09:34:24.118164Z",
     "iopub.status.busy": "2025-09-05T09:34:24.117843Z",
     "iopub.status.idle": "2025-09-05T09:34:24.289574Z",
     "shell.execute_reply": "2025-09-05T09:34:24.289053Z",
     "shell.execute_reply.started": "2025-09-05T09:34:24.118146Z"
    }
   },
   "outputs": [
    {
     "name": "stdout",
     "output_type": "stream",
     "text": [
      "Connection Status:\n",
      "  ✅ PostgreSQL\n",
      "  ✅ ClickHouse\n",
      "  ✅ MinIO\n",
      "  ✅ Redis\n",
      "  ✅ Kafka\n",
      "  ✅ Trino\n",
      "  ✅ Spark\n",
      "\n",
      "Result: 7/7 services connected\n"
     ]
    },
    {
     "data": {
      "text/plain": [
       "{'PostgreSQL': '✅',\n",
       " 'ClickHouse': '✅',\n",
       " 'MinIO': '✅',\n",
       " 'Redis': '✅',\n",
       " 'Kafka': '✅',\n",
       " 'Trino': '✅',\n",
       " 'Spark': '✅'}"
      ]
     },
     "execution_count": 9,
     "metadata": {},
     "output_type": "execute_result"
    }
   ],
   "source": [
    "def check_all_connections():\n",
    "    status = {}\n",
    "    \n",
    "    # PostgreSQL\n",
    "    try:\n",
    "        pd.read_sql(\"SELECT 1\", pg_engine)\n",
    "        status['PostgreSQL'] = '✅'\n",
    "    except Exception as e:\n",
    "        status['PostgreSQL'] = '❌'\n",
    "        print(f\"PostgreSQL error: {str(e)[:50]}...\")\n",
    "    \n",
    "    # ClickHouse\n",
    "    try:\n",
    "        ch_client.query(\"SELECT 1\")\n",
    "        status['ClickHouse'] = '✅'\n",
    "    except Exception as e:\n",
    "        status['ClickHouse'] = '❌'\n",
    "        print(f\"ClickHouse error: {str(e)[:50]}...\")\n",
    "    \n",
    "    # MinIO\n",
    "    try:\n",
    "        s3_client.list_buckets()\n",
    "        status['MinIO'] = '✅'\n",
    "    except Exception as e:\n",
    "        status['MinIO'] = '❌'\n",
    "        print(f\"MinIO error: {str(e)[:50]}...\")\n",
    "    \n",
    "    # Redis\n",
    "    try:\n",
    "        r.ping()\n",
    "        status['Redis'] = '✅'\n",
    "    except Exception as e:\n",
    "        status['Redis'] = '❌'\n",
    "        print(f\"Redis error: {str(e)[:50]}...\")\n",
    "    \n",
    "    # Kafka\n",
    "    try:\n",
    "        producer.bootstrap_connected()\n",
    "        status['Kafka'] = '✅'\n",
    "    except Exception as e:\n",
    "        status['Kafka'] = '❌'\n",
    "        print(f\"Kafka error: {str(e)[:50]}...\")\n",
    "    \n",
    "    # Trino\n",
    "    try:\n",
    "        query_trino(\"SELECT 1 as test\")\n",
    "        status['Trino'] = '✅'\n",
    "    except Exception as e:\n",
    "        status['Trino'] = '❌'\n",
    "        print(f\"Trino error: {str(e)[:50]}...\")\n",
    "    \n",
    "    # Spark\n",
    "    try:\n",
    "        if 'spark' in globals() and spark is not None:\n",
    "            spark.sql(\"SELECT 1\").collect()\n",
    "            status['Spark'] = '✅'\n",
    "        else:\n",
    "            status['Spark'] = '❌ (not initialized)'\n",
    "    except Exception as e:\n",
    "        status['Spark'] = '❌'\n",
    "        print(f\"Spark error: {str(e)[:50]}...\")\n",
    "    \n",
    "    print(\"Connection Status:\")\n",
    "    for service, stat in status.items():\n",
    "        print(f\"  {stat} {service}\")\n",
    "    \n",
    "    successful = sum(1 for s in status.values() if '✅' in s)\n",
    "    total = len(status)\n",
    "    print(f\"\\nResult: {successful}/{total} services connected\")\n",
    "    \n",
    "    return status\n",
    "\n",
    "check_all_connections()"
   ]
  },
  {
   "cell_type": "markdown",
   "metadata": {},
   "source": [
    "## 📏 Usage Patterns\n",
    "\n",
    "Common data pipeline operations:\n",
    "\n",
    "**PostgreSQL → Spark**\n",
    "```python\n",
    "df_spark = spark.read.format(\"jdbc\") \\\n",
    "    .option(\"url\", POSTGRES_URL.replace(\"postgresql://\", \"jdbc:postgresql://\")) \\\n",
    "    .option(\"dbtable\", \"your_table\") \\\n",
    "    .option(\"user\", os.getenv('POSTGRES_USER', 'admin')) \\\n",
    "    .option(\"password\", os.getenv('POSTGRES_PASSWORD', 'admin')) \\\n",
    "    .load()\n",
    "```\n",
    "\n",
    "**Spark → ClickHouse**\n",
    "```python\n",
    "pandas_df = spark_df.toPandas()\n",
    "ch_client.insert_df('your_table', pandas_df)\n",
    "```\n",
    "\n",
    "**Kafka messaging**\n",
    "```python\n",
    "send_message('your-topic', {'key': 'value'})\n",
    "consumer = create_consumer('your-topic')\n",
    "```\n",
    "\n",
    "**DataFrame caching**\n",
    "```python\n",
    "cache_dataframe('my_data', df)\n",
    "cached_df = get_cached_dataframe('my_data')\n",
    "```\n",
    "\n",
    "**Trino federated queries**\n",
    "```python\n",
    "result = query_trino('''\n",
    "    SELECT pg.*, ch.analytics_column \n",
    "    FROM postgresql.public.users pg\n",
    "    JOIN clickhouse.analytics.events ch ON pg.id = ch.user_id\n",
    "''')\n",
    "```"
   ]
  }
 ],
 "metadata": {
  "kernelspec": {
   "display_name": "Python 3 (ipykernel)",
   "language": "python",
   "name": "python3"
  },
  "language_info": {
   "codemirror_mode": {
    "name": "ipython",
    "version": 3
   },
   "file_extension": ".py",
   "mimetype": "text/x-python",
   "name": "python",
   "nbconvert_exporter": "python",
   "pygments_lexer": "ipython3",
   "version": "3.11.6"
  }
 },
 "nbformat": 4,
 "nbformat_minor": 4
}
